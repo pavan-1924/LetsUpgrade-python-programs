{
 "cells": [
  {
   "cell_type": "markdown",
   "metadata": {},
   "source": [
    "# Python Essentials LetsUpgrade"
   ]
  },
  {
   "cell_type": "markdown",
   "metadata": {},
   "source": [
    "# Assignment Day 2"
   ]
  },
  {
   "cell_type": "markdown",
   "metadata": {},
   "source": [
    "# Strings"
   ]
  },
  {
   "cell_type": "markdown",
   "metadata": {},
   "source": [
    "1.Try 5 different functions of Strings in Pythom"
   ]
  },
  {
   "cell_type": "code",
   "execution_count": 44,
   "metadata": {},
   "outputs": [
    {
     "name": "stdout",
     "output_type": "stream",
     "text": [
      "The string in upper case is:\n",
      "PAVAN KUMAR\n",
      "\n",
      "To find position of a letter in string\n",
      "the position of K in Pavan Kumar is:\n",
      "6\n",
      "returns -1 if not found:  -1\n",
      "\n",
      "no.of a's in Pavan Kumar is \n",
      "3\n",
      "\n",
      "string after replacing 'a' with 'r' is\n",
      "Prvrn Kumrr\n",
      "\n",
      "\n",
      "\n",
      " the string is\n",
      "college cse\n",
      "ece eee\n",
      "\n",
      "using splitlines\n",
      "['college cse', 'ece eee']\n"
     ]
    }
   ],
   "source": [
    "name=\"Pavan Kumar\"\n",
    "#func 1-upper()\n",
    "x=name.upper()\n",
    "print(\"The string in upper case is:\")\n",
    "print(x)\n",
    "#fun 2-rfind()\n",
    "print(\"\\nTo find position of a letter in string\\nthe position of K in {} is:\".format(name))\n",
    "print(name.rfind('K'))\n",
    "print(\"returns -1 if not found: \",name.rfind('s'))\n",
    "#func 3-count()\n",
    "print(\"\\nno.of a's in {} is \".format(name))\n",
    "print(name.count('a'))\n",
    "#func 4-replace()\n",
    "print(\"\\nstring after replacing 'a' with 'r' is\")\n",
    "print(name.replace('a','r'))\n",
    "print(\"\\n\")\n",
    "#fun 5-splitlines\n",
    "abc=\"\"\"college cse\n",
    "ece eee\\n\"\"\"\n",
    "print(\"\\n the string is\")\n",
    "print(abc)\n",
    "print(\"using splitlines\")\n",
    "print(abc.splitlines())"
   ]
  },
  {
   "cell_type": "markdown",
   "metadata": {},
   "source": [
    "# Lists"
   ]
  },
  {
   "cell_type": "markdown",
   "metadata": {},
   "source": [
    "2.Try 5 different fun on list obj in python"
   ]
  },
  {
   "cell_type": "code",
   "execution_count": 81,
   "metadata": {},
   "outputs": [
    {
     "name": "stdout",
     "output_type": "stream",
     "text": [
      "length of list P is: 5\n",
      "\n",
      "list P after poping 4th element is\n",
      "[16, 'a', 22.0, 1]\n",
      "\n",
      " list l after sorting is\n",
      "[5, 4, 3, 2, 1]\n",
      "[1, 2, 3, 4, 5]\n",
      "[5, 4, 3, 2, 1]\n",
      "\n",
      " using strings in lists\n",
      "['abc', 'cse', 'pavan']\n",
      "['pavan', 'cse', 'abc']\n",
      "\n",
      "The list x is\t ['p', 'a', 'v', 'a']\n",
      "after extending:\n",
      "['p', 'a', 'v', 'a', 'n']\n",
      "1\n"
     ]
    }
   ],
   "source": [
    "#fun -1 len()\n",
    "P=[16,\"a\",22.0,1,'n']\n",
    "print(\"length of list P is:\",len(P))\n",
    "#fun -2 pop()\n",
    "P.pop(4)\n",
    "print(\"\\nlist P after poping 4th element is\")\n",
    "print(P)\n",
    "#fun -3 sort() & reverse()\n",
    "l=[5,4,3,2,1]\n",
    "print(\"\\n list l after sorting is\")\n",
    "l.sort(reverse=True)\n",
    "print(l)\n",
    "l.sort()\n",
    "print(l)\n",
    "l.reverse()\n",
    "print(l)\n",
    "#strings\n",
    "print(\"\\n using strings in lists\")\n",
    "a=['abc','pavan','cse']\n",
    "a.sort()\n",
    "print(a)\n",
    "a.reverse()\n",
    "print(a)\n",
    "#func -4 extend()-similar to append\n",
    "x=['p','a','v','a']\n",
    "print(\"\\nThe list x is\\t\",x)\n",
    "print(\"after extending:\")\n",
    "x.extend('n')\n",
    "print(x)\n",
    "#fun -5 index()-gives first pos of occurence\n",
    "print(x.index('a'))"
   ]
  },
  {
   "cell_type": "markdown",
   "metadata": {},
   "source": [
    "# Dictionary"
   ]
  },
  {
   "cell_type": "code",
   "execution_count": 113,
   "metadata": {},
   "outputs": [
    {
     "name": "stdout",
     "output_type": "stream",
     "text": [
      "{'Kohli': 'Cricket', 'Messi': 'football', 'Vijay': 'Movie', 'Kalam': 'inspiration', 'Python': 'Guido'}\n",
      "\n",
      "The keys in dictionary are:\n",
      "dict_keys(['Kohli', 'Messi', 'Vijay', 'Kalam', 'Python'])\n",
      "\n",
      "The values are:\n",
      "dict_values(['Cricket', 'football', 'Movie', 'inspiration', 'Guido'])\n",
      "\n",
      "The key value pairs are:\n",
      "dict_items([('Kohli', 'Cricket'), ('Messi', 'football'), ('Vijay', 'Movie'), ('Kalam', 'inspiration'), ('Python', 'Guido')])\n",
      "\n",
      "the popitem removes last key value pair:\n",
      "('Python', 'Guido')\n",
      "\n",
      "The copied dictionary is:\n",
      "{'Kohli': 'Cricket', 'Messi': 'football', 'Vijay': 'Movie', 'Kalam': 'inspiration'}\n",
      "\n",
      "clear is used to free dictionary:\n",
      "{}\n"
     ]
    }
   ],
   "source": [
    "dic={\"Kohli\":\"Cricket\",\"Messi\":\"football\",\"Vijay\":\"Movie\",\"Kalam\":\"inspiration\",\"Python\":\"Guido\"}\n",
    "print(dic)\n",
    "#fun -1 Keys &values\n",
    "print(\"\\nThe keys in dictionary are:\")\n",
    "x=dic.keys()\n",
    "print(x)\n",
    "print(\"\\nThe values are:\")\n",
    "print(dic.values())\n",
    "#fun 2 items()\n",
    "print(\"\\nThe key value pairs are:\")\n",
    "print(dic.items())\n",
    "#fun 3 popitem()\n",
    "print(\"\\nthe popitem removes last key value pair:\")\n",
    "print(dic.popitem())\n",
    "#fun 4 copy()\n",
    "print(\"\\nThe copied dictionary is:\")\n",
    "x=dic.copy()\n",
    "print(x)\n",
    "#fun 5 clear()\n",
    "print(\"\\nclear is used to free dictionary:\")\n",
    "dic.clear()\n",
    "print(dic)"
   ]
  },
  {
   "cell_type": "code",
   "execution_count": null,
   "metadata": {},
   "outputs": [],
   "source": []
  }
 ],
 "metadata": {
  "kernelspec": {
   "display_name": "Python 3",
   "language": "python",
   "name": "python3"
  },
  "language_info": {
   "codemirror_mode": {
    "name": "ipython",
    "version": 3
   },
   "file_extension": ".py",
   "mimetype": "text/x-python",
   "name": "python",
   "nbconvert_exporter": "python",
   "pygments_lexer": "ipython3",
   "version": "3.8.5"
  }
 },
 "nbformat": 4,
 "nbformat_minor": 4
}
